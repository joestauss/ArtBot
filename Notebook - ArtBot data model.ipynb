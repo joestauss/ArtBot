{
 "cells": [
  {
   "cell_type": "markdown",
   "metadata": {},
   "source": [
    "An __ArtBot__ is can be created from a JSON file:"
   ]
  },
  {
   "cell_type": "code",
   "execution_count": 1,
   "metadata": {},
   "outputs": [
    {
     "name": "stdout",
     "output_type": "stream",
     "text": [
      "Help on function from_json in module ArtBot:\n",
      "\n",
      "from_json(json_string)\n",
      "    Initializes an ArtBot object from json_string.\n",
      "    \n",
      "    Parameters\n",
      "    -----------\n",
      "    json_string: str\n",
      "        Has the following structure:\n",
      "        {   ContentRecords: [ {\n",
      "                \"subject\"   : str,\n",
      "                \"post_text\" : str,\n",
      "                \"hashtags\"  : [str],\n",
      "                \"image_file\": str    } ]\n",
      "    \n",
      "            PostHistory: [ {\n",
      "                \"subject\"   : str\n",
      "                \"post_date\" : str, formatted YYYY-MM-DD } ]\n",
      "        }\n",
      "\n"
     ]
    }
   ],
   "source": [
    "from ArtBot  import ArtBot\n",
    "from pathlib import Path\n",
    "\n",
    "json_string = Path('Example_ArtBot.json').read_text()\n",
    "artbot = ArtBot.from_json(json_string)\n",
    "\n",
    "help( ArtBot.from_json)"
   ]
  },
  {
   "cell_type": "markdown",
   "metadata": {},
   "source": [
    "# ArtBot.content\n",
    "\n",
    "__ArtBot.content__ holds the resources for constucting a post:"
   ]
  },
  {
   "cell_type": "code",
   "execution_count": 2,
   "metadata": {},
   "outputs": [
    {
     "name": "stdout",
     "output_type": "stream",
     "text": [
      "This is the text for post 1\n",
      "====================\n",
      "This is the text for post 2\n",
      "====================\n",
      "This is the text for post 3\n",
      "====================\n",
      "This is the text for post 4\n",
      "====================\n",
      "This is the text for post 5\n"
     ]
    }
   ],
   "source": [
    "all_possible_posts = [post.post_text for post in artbot.content]\n",
    "print((\"\\n\" + (\"=\"*20) + '\\n').join(all_possible_posts))"
   ]
  },
  {
   "cell_type": "markdown",
   "metadata": {},
   "source": [
    "Each post is stored internally as a ContentRecord object."
   ]
  },
  {
   "cell_type": "code",
   "execution_count": 3,
   "metadata": {
    "scrolled": true
   },
   "outputs": [
    {
     "name": "stdout",
     "output_type": "stream",
     "text": [
      "{\n",
      " \"subject\": \"Subject 1\",\n",
      " \"post_text\": \"This is the text for post 1\",\n",
      " \"hashtags\": [\n",
      "  \"oddHashTag\"\n",
      " ],\n",
      " \"image_file\": \"image_resource_1.jpg\"\n",
      "}\n"
     ]
    }
   ],
   "source": [
    "print(artbot.content[0].as_json)"
   ]
  },
  {
   "cell_type": "markdown",
   "metadata": {},
   "source": [
    "# ArtBot.history\n",
    "\n",
    "__Artbot.history__ is a list of PostRecord objects."
   ]
  },
  {
   "cell_type": "code",
   "execution_count": 4,
   "metadata": {},
   "outputs": [
    {
     "name": "stdout",
     "output_type": "stream",
     "text": [
      "{\n",
      " \"subject\": \"Subject 4\",\n",
      " \"post_date\": \"3030-01-01\"\n",
      "}\n"
     ]
    }
   ],
   "source": [
    "print(artbot.history[0].as_json)"
   ]
  },
  {
   "cell_type": "markdown",
   "metadata": {},
   "source": [
    "__ArtBot.history_as_str__ constructs a summary of an ArtBot's posting history."
   ]
  },
  {
   "cell_type": "code",
   "execution_count": 5,
   "metadata": {},
   "outputs": [
    {
     "name": "stdout",
     "output_type": "stream",
     "text": [
      "3030-01-01 : Posted on Subject 4.\n",
      "3030-01-02 : Posted on Subject 2.\n",
      "3030-01-03 : Posted on Subject 4.\n",
      "3030-01-04 : Posted on Subject 3.\n",
      "3030-01-05 : Posted on Subject 3.\n",
      "3030-01-06 : Posted on Subject 4.\n",
      "3030-01-07 : Posted on Subject 4.\n",
      "3030-01-08 : Posted on Subject 4.\n",
      "3030-01-09 : Posted on Subject 1.\n",
      "3030-01-10 : Posted on Subject 4.\n"
     ]
    }
   ],
   "source": [
    "print(artbot.history_as_str)"
   ]
  },
  {
   "cell_type": "markdown",
   "metadata": {},
   "source": [
    "# Saving an ArtBot\n",
    "\n",
    "__ArtBot.as_json__ is a property that builds the JSON representation of an ArtBot's state."
   ]
  },
  {
   "cell_type": "code",
   "execution_count": 6,
   "metadata": {},
   "outputs": [
    {
     "name": "stdout",
     "output_type": "stream",
     "text": [
      "{\n",
      " \"ContentRecords\": [\n",
      "  {\n",
      "   \"subject\": \"Subject 1\",\n",
      "   \"post_text\": \"This is the text for post 1\",\n",
      "   \"hashtags\": [\n",
      "    \"oddHashTag\"\n",
      "   ],\n",
      "   \"image_file\": \"image_resource_1.jpg\"\n",
      "  },\n",
      "  {\n",
      "   \"subject\": \"Subject 2\",\n",
      "   \"post_text\": \"This is the text for post 2\",\n",
      "   \"hashtags\": [\n",
      "    \"evenHashTag\"\n",
      "   ],\n",
      "   \"image_file\": \"image_resource_2.jpg\"\n",
      "  },\n",
      "  {\n",
      "   \"subject\": \"Subject 3\",\n",
      "   \"post_text\": \"This is the text for post 3\",\n",
      "   \"hashtags\": [\n",
      "    \"oddHashTag\"\n",
      "   ],\n",
      "   \"image_file\": \"image_resource_3.jpg\"\n",
      "  },\n",
      "  {\n",
      "   \"subject\": \"Subject 1\",\n",
      "   \"post_text\": \"This is the text for post 4\",\n",
      "   \"hashtags\": [\n",
      "    \"evenHashTag\"\n",
      "   ],\n",
      "   \"image_file\": \"image_resource_4.jpg\"\n",
      "  },\n",
      "  {\n",
      "   \"subject\": \"Subject 2\",\n",
      "   \"post_text\": \"This is the text for post 5\",\n",
      "   \"hashtags\": [\n",
      "    \"oddHashTag\"\n",
      "   ],\n",
      "   \"image_file\": \"image_resource_5.jpg\"\n",
      "  }\n",
      " ],\n",
      " \"PostHistory\": [\n",
      "  {\n",
      "   \"subject\": \"Subject 4\",\n",
      "   \"post_date\": \"3030-01-01\"\n",
      "  },\n",
      "  {\n",
      "   \"subject\": \"Subject 2\",\n",
      "   \"post_date\": \"3030-01-02\"\n",
      "  },\n",
      "  {\n",
      "   \"subject\": \"Subject 4\",\n",
      "   \"post_date\": \"3030-01-03\"\n",
      "  },\n",
      "  {\n",
      "   \"subject\": \"Subject 3\",\n",
      "   \"post_date\": \"3030-01-04\"\n",
      "  },\n",
      "  {\n",
      "   \"subject\": \"Subject 3\",\n",
      "   \"post_date\": \"3030-01-05\"\n",
      "  },\n",
      "  {\n",
      "   \"subject\": \"Subject 4\",\n",
      "   \"post_date\": \"3030-01-06\"\n",
      "  },\n",
      "  {\n",
      "   \"subject\": \"Subject 4\",\n",
      "   \"post_date\": \"3030-01-07\"\n",
      "  },\n",
      "  {\n",
      "   \"subject\": \"Subject 4\",\n",
      "   \"post_date\": \"3030-01-08\"\n",
      "  },\n",
      "  {\n",
      "   \"subject\": \"Subject 1\",\n",
      "   \"post_date\": \"3030-01-09\"\n",
      "  },\n",
      "  {\n",
      "   \"subject\": \"Subject 4\",\n",
      "   \"post_date\": \"3030-01-10\"\n",
      "  }\n",
      " ]\n",
      "}\n"
     ]
    }
   ],
   "source": [
    "print(artbot.as_json)"
   ]
  }
 ],
 "metadata": {
  "kernelspec": {
   "display_name": "Python 3",
   "language": "python",
   "name": "python3"
  },
  "language_info": {
   "codemirror_mode": {
    "name": "ipython",
    "version": 3
   },
   "file_extension": ".py",
   "mimetype": "text/x-python",
   "name": "python",
   "nbconvert_exporter": "python",
   "pygments_lexer": "ipython3",
   "version": "3.8.5"
  }
 },
 "nbformat": 4,
 "nbformat_minor": 4
}
