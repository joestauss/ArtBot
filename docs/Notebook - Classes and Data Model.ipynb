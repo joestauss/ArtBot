{
 "cells": [
  {
   "cell_type": "markdown",
   "metadata": {},
   "source": [
    "An __ArtBot__ can be created from a JSON file:"
   ]
  },
  {
   "cell_type": "code",
   "execution_count": 1,
   "metadata": {},
   "outputs": [],
   "source": [
    "from ArtBot  import ArtBot\n",
    "from pathlib import Path\n",
    "from TweetHistory import TweetHistory\n",
    "\n",
    "json_string = Path('ut.example_artbot.json').read_text()\n",
    "artbot = ArtBot.from_json(json_string)"
   ]
  },
  {
   "cell_type": "markdown",
   "metadata": {},
   "source": [
    "# ArtBot.content\n",
    "\n",
    "__ArtBot.content__ is a _ContentStore_ object:"
   ]
  },
  {
   "cell_type": "code",
   "execution_count": 2,
   "metadata": {},
   "outputs": [
    {
     "name": "stdout",
     "output_type": "stream",
     "text": [
      "Content Store\n",
      "=============\n",
      "ContentRecord: Subject 0 (2 posts; 2 tags; 2 images)\n",
      "ContentRecord: Subject 1 (2 posts; 0 tags; 0 images)\n",
      "ContentRecord: Subject 2 (1 posts; 2 tags; 0 images)\n",
      "ContentRecord: Subject 3 (1 posts; 0 tags; 1 images)\n",
      "ContentRecord: Subject 4 (2 posts; 2 tags; 1 images)\n",
      "ContentRecord: Subject 5 (1 posts; 0 tags; 0 images)\n",
      "ContentRecord: Subject 6 (2 posts; 1 tags; 2 images)\n",
      "ContentRecord: Subject 7 (1 posts; 2 tags; 2 images)\n",
      "ContentRecord: Subject 8 (1 posts; 0 tags; 0 images)\n",
      "ContentRecord: Subject 9 (2 posts; 1 tags; 0 images)\n"
     ]
    }
   ],
   "source": [
    "print( artbot.content)"
   ]
  },
  {
   "cell_type": "markdown",
   "metadata": {},
   "source": [
    "Each item in a _ContentStore_ is a _ContentRecord_:"
   ]
  },
  {
   "cell_type": "code",
   "execution_count": 3,
   "metadata": {
    "scrolled": true
   },
   "outputs": [
    {
     "name": "stdout",
     "output_type": "stream",
     "text": [
      "ContentRecord( subject=\"Subject 0\", text_posts=['The first content item.', 'The second content item.'], tags=['TwinTagOne', 'TwinTagTwo'], images=['Image Resource 0, Variant 1.jpg', 'Image Resource 0, Variant 2.jpg'])\n"
     ]
    }
   ],
   "source": [
    "print( repr(artbot.content.records[0]))"
   ]
  },
  {
   "cell_type": "markdown",
   "metadata": {},
   "source": [
    "# ArtBot.history\n",
    "\n",
    "__Artbot.history__ is a _TweetHistory_ object."
   ]
  },
  {
   "cell_type": "code",
   "execution_count": 4,
   "metadata": {},
   "outputs": [
    {
     "name": "stdout",
     "output_type": "stream",
     "text": [
      "Tweet History\n",
      "=============\n",
      "3030-01-01 tweet on Subject 0: The second content item. (Image: Image Resource 0, Variant 2.jpg)\n",
      "3030-01-02 tweet on Subject 6: The second content item. (Image: Image Resource 6, Variant 2.jpg)\n",
      "3030-01-03 tweet on Subject 9: The first content item. (Image: None)\n",
      "3030-01-04 tweet on Subject 3: The only content item. (Image: Image Resource 3.jpg)\n",
      "3030-01-05 tweet on Subject 1: The first content item. (Image: None)\n",
      "3030-01-06 tweet on Subject 4: The second content item. (Image: Image Resource 4.jpg)\n",
      "3030-01-07 tweet on Subject 7: The only content item. (Image: Image Resource 7, Variant 2.jpg)\n",
      "3030-01-08 tweet on Subject 8: The only content item. (Image: None)\n",
      "3030-01-09 tweet on Subject 5: The only content item. (Image: None)\n",
      "3030-01-10 tweet on Subject 2: The only content item. (Image: None)\n",
      "3030-01-11 tweet on Subject 0: The second content item. (Image: Image Resource 0, Variant 1.jpg)\n",
      "3030-01-12 tweet on Subject 9: The second content item. (Image: None)\n",
      "3030-01-13 tweet on Subject 1: The second content item. (Image: None)\n",
      "3030-01-14 tweet on Subject 6: The first content item. (Image: Image Resource 6, Variant 1.jpg)\n",
      "3030-01-15 tweet on Subject 4: The first content item. (Image: Image Resource 4.jpg)\n",
      "3030-01-16 tweet on Subject 2: The only content item. (Image: None)\n",
      "3030-01-17 tweet on Subject 7: The only content item. (Image: Image Resource 7, Variant 1.jpg)\n",
      "3030-01-18 tweet on Subject 8: The only content item. (Image: None)\n",
      "3030-01-19 tweet on Subject 9: The first content item. (Image: None)\n",
      "3030-01-20 tweet on Subject 5: The only content item. (Image: None)\n",
      "3030-01-21 tweet on Subject 0: The first content item. (Image: Image Resource 0, Variant 1.jpg)\n",
      "3030-01-22 tweet on Subject 4: The first content item. (Image: Image Resource 4.jpg)\n",
      "3030-01-23 tweet on Subject 7: The only content item. (Image: Image Resource 7, Variant 2.jpg)\n",
      "3030-01-24 tweet on Subject 8: The only content item. (Image: None)\n",
      "3030-01-25 tweet on Subject 2: The only content item. (Image: None)\n",
      "3030-01-26 tweet on Subject 5: The only content item. (Image: None)\n",
      "3030-01-27 tweet on Subject 9: The second content item. (Image: None)\n",
      "3030-01-28 tweet on Subject 6: The first content item. (Image: Image Resource 6, Variant 1.jpg)\n",
      "3030-01-29 tweet on Subject 4: The first content item. (Image: Image Resource 4.jpg)\n",
      "3030-01-30 tweet on Subject 8: The only content item. (Image: None)\n",
      "3030-01-31 tweet on Subject 0: The second content item. (Image: Image Resource 0, Variant 1.jpg)\n",
      "3030-02-01 tweet on Subject 1: The second content item. (Image: None)\n",
      "3030-02-02 tweet on Subject 7: The only content item. (Image: Image Resource 7, Variant 1.jpg)\n",
      "3030-02-03 tweet on Subject 2: The only content item. (Image: None)\n",
      "3030-02-04 tweet on Subject 4: The second content item. (Image: Image Resource 4.jpg)\n",
      "3030-02-05 tweet on Subject 6: The first content item. (Image: Image Resource 6, Variant 2.jpg)\n",
      "3030-02-06 tweet on Subject 3: The only content item. (Image: Image Resource 3.jpg)\n",
      "3030-02-07 tweet on Subject 9: The second content item. (Image: None)\n",
      "3030-02-08 tweet on Subject 0: The first content item. (Image: Image Resource 0, Variant 2.jpg)\n",
      "3030-02-09 tweet on Subject 5: The only content item. (Image: None)\n",
      "3030-02-10 tweet on Subject 7: The only content item. (Image: Image Resource 7, Variant 2.jpg)\n",
      "3030-02-11 tweet on Subject 8: The only content item. (Image: None)\n",
      "3030-02-12 tweet on Subject 1: The first content item. (Image: None)\n",
      "3030-02-13 tweet on Subject 3: The only content item. (Image: Image Resource 3.jpg)\n",
      "3030-02-14 tweet on Subject 2: The only content item. (Image: None)\n",
      "3030-02-15 tweet on Subject 5: The only content item. (Image: None)\n",
      "3030-02-16 tweet on Subject 6: The second content item. (Image: Image Resource 6, Variant 1.jpg)\n",
      "3030-02-17 tweet on Subject 9: The first content item. (Image: None)\n",
      "3030-02-18 tweet on Subject 1: The second content item. (Image: None)\n",
      "3030-02-19 tweet on Subject 7: The only content item. (Image: Image Resource 7, Variant 1.jpg)\n"
     ]
    }
   ],
   "source": [
    "print(artbot.history)"
   ]
  },
  {
   "cell_type": "markdown",
   "metadata": {},
   "source": [
    "Each item in a _TweetHistory_ is a _TweetRecord_."
   ]
  },
  {
   "cell_type": "code",
   "execution_count": 5,
   "metadata": {},
   "outputs": [
    {
     "name": "stdout",
     "output_type": "stream",
     "text": [
      "TweetRecord( subject=\"Subject 0\", date=datetime.date(3030, 1, 1), text=\"The second content item.\", image=\"Image Resource 0, Variant 2.jpg\")\n"
     ]
    }
   ],
   "source": [
    "print( repr(artbot.history.records[0]))"
   ]
  },
  {
   "cell_type": "markdown",
   "metadata": {},
   "source": [
    "# Saving an ArtBot\n",
    "\n",
    "__ArtBot.json__ is a property that builds the JSON representation of an ArtBot's state."
   ]
  },
  {
   "cell_type": "code",
   "execution_count": 6,
   "metadata": {},
   "outputs": [
    {
     "name": "stdout",
     "output_type": "stream",
     "text": [
      "{\n",
      " \"ContentRecords\": [\n",
      "  {\n",
      "   \"Subject\": \"Subject 0\",\n",
      "   \"Content\": [\n",
      "    \"The first content item.\",\n",
      "    \"The second content item.\"\n",
      "   ],\n",
      "   \"Hashtags\": [\n",
      "    \"TwinTagOne\",\n",
      "    \"TwinTagTwo\"\n",
      "   ],\n",
      "   \"Images\": [\n",
      "    \"Image Resource 0, Variant 1.jpg\",\n",
      "    \"Image Resource 0, Variant 2.jpg\"\n",
      "   ]\n",
      "  },\n",
      "  {\n",
      "   \"Subject\": \"Subject 1\",\n",
      "   \"Content\": [\n",
      "    \"The first content item.\",\n",
      "    \"The second content item.\"\n",
      "   ],\n",
      "   \"Hashtags\": [],\n",
      "   \"Images\": []\n",
      "  },\n",
      "  {\n",
      "   \"Subject\": \"Subject 2\",\n",
      "   \"Content\": [\n",
      "    \"The only content item.\"\n",
      "   ],\n",
      "   \"Hashtags\": [\n",
      "    \"TwinTagOne\",\n",
      "    \"TwinTagTwo\"\n",
      "   ],\n",
      "   \"Images\": []\n",
      "  },\n",
      "  {\n",
      "   \"Subject\": \"Subject 3\",\n",
      "   \"Content\": [\n",
      "    \"The only content item.\"\n",
      "   ],\n",
      "   \"Hashtags\": [],\n",
      "   \"Images\": [\n",
      "    \"Image Resource 3.jpg\"\n",
      "   ]\n",
      "  },\n",
      "  {\n",
      "   \"Subject\": \"Subject 4\",\n",
      "   \"Content\": [\n",
      "    \"The first content item.\",\n",
      "    \"The second content item.\"\n",
      "   ],\n",
      "   \"Hashtags\": [\n",
      "    \"TwinTagOne\",\n",
      "    \"TwinTagTwo\"\n",
      "   ],\n",
      "   \"Images\": [\n",
      "    \"Image Resource 4.jpg\"\n",
      "   ]\n",
      "  },\n",
      "  {\n",
      "   \"Subject\": \"Subject 5\",\n",
      "   \"Content\": [\n",
      "    \"The only content item.\"\n",
      "   ],\n",
      "   \"Hashtags\": [],\n",
      "   \"Images\": []\n",
      "  },\n",
      "  {\n",
      "   \"Subject\": \"Subject 6\",\n",
      "   \"Content\": [\n",
      "    \"The first content item.\",\n",
      "    \"The second content item.\"\n",
      "   ],\n",
      "   \"Hashtags\": [\n",
      "    \"SoloTag\"\n",
      "   ],\n",
      "   \"Images\": [\n",
      "    \"Image Resource 6, Variant 1.jpg\",\n",
      "    \"Image Resource 6, Variant 2.jpg\"\n",
      "   ]\n",
      "  },\n",
      "  {\n",
      "   \"Subject\": \"Subject 7\",\n",
      "   \"Content\": [\n",
      "    \"The only content item.\"\n",
      "   ],\n",
      "   \"Hashtags\": [\n",
      "    \"TwinTagOne\",\n",
      "    \"TwinTagTwo\"\n",
      "   ],\n",
      "   \"Images\": [\n",
      "    \"Image Resource 7, Variant 1.jpg\",\n",
      "    \"Image Resource 7, Variant 2.jpg\"\n",
      "   ]\n",
      "  },\n",
      "  {\n",
      "   \"Subject\": \"Subject 8\",\n",
      "   \"Content\": [\n",
      "    \"The only content item.\"\n",
      "   ],\n",
      "   \"Hashtags\": [],\n",
      "   \"Images\": []\n",
      "  },\n",
      "  {\n",
      "   \"Subject\": \"Subject 9\",\n",
      "   \"Content\": [\n",
      "    \"The first content item.\",\n",
      "    \"The second content item.\"\n",
      "   ],\n",
      "   \"Hashtags\": [\n",
      "    \"SoloTag\"\n",
      "   ],\n",
      "   \"Images\": []\n",
      "  }\n",
      " ],\n",
      " \"PostHistory\": [\n",
      "  {\n",
      "   \"Subject\": \"Subject 8\",\n",
      "   \"Date\": \"2021-01-18\",\n",
      "   \"Text\": \"The only content item.\",\n",
      "   \"Image\": null\n",
      "  }\n",
      " ]\n",
      "}\n"
     ]
    }
   ],
   "source": [
    "artbot.history = TweetHistory() # replace with an empty history\n",
    "artbot.post() # post a single item\n",
    "print(artbot.json)"
   ]
  }
 ],
 "metadata": {
  "kernelspec": {
   "display_name": "Python 3",
   "language": "python",
   "name": "python3"
  },
  "language_info": {
   "codemirror_mode": {
    "name": "ipython",
    "version": 3
   },
   "file_extension": ".py",
   "mimetype": "text/x-python",
   "name": "python",
   "nbconvert_exporter": "python",
   "pygments_lexer": "ipython3",
   "version": "3.8.5"
  }
 },
 "nbformat": 4,
 "nbformat_minor": 4
}
